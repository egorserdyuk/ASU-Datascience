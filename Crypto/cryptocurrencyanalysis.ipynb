{
 "cells": [
  {
   "cell_type": "markdown",
   "metadata": {},
   "source": [
    "**This is the final project in Data Analysis.**\n",
    "\n",
    "Goals:\n",
    "1. Analyze the cryptocurrency market in the selected time period\n",
    "2. Try to predict the results of exchange rates (without focusing on events)\n",
    "3. Analyze current profitability and risk\n",
    "4. Prepare forecasted financial statements\n",
    "5. Analyze the share of cryptocurrencies in the economy"
   ]
  },
  {
   "cell_type": "markdown",
   "metadata": {},
   "source": [
    "Description of variables\n",
    "\n",
    "* slug - unique name of cryptocurrency (text)\n",
    "* symbol - unique short name (text)\n",
    "* name - name of cryptocurrency (text)\n",
    "* date - dates (categorical)\n",
    "* ranknow - market entry (ordinal)\n",
    "* open - starting bid price (numerical)\n",
    "* high - highest bid price (numerical)\n",
    "* low - lowest bid price (numerical)\n",
    "* close - closing bid price (numerical)\n",
    "* volume - number of transactions (quantitative)\n",
    "* market - market capitalization (numerical)\n",
    "* close_ration - difference between open and close price (numerical)\n",
    "* spread - difference between the lowest and the highest price (numerical)"
   ]
  },
  {
   "cell_type": "code",
   "execution_count": 1,
   "metadata": {
    "_cell_guid": "b1076dfc-b9ad-4769-8c92-a6c4dae69d19",
    "_uuid": "8f2839f25d086af736a60e9eeb907d3b93b6e0e5"
   },
   "outputs": [
    {
     "data": {
      "text/html": [
       "        <script type=\"text/javascript\">\n",
       "        window.PlotlyConfig = {MathJaxConfig: 'local'};\n",
       "        if (window.MathJax) {MathJax.Hub.Config({SVG: {font: \"STIX-Web\"}});}\n",
       "        if (typeof require !== 'undefined') {\n",
       "        require.undef(\"plotly\");\n",
       "        requirejs.config({\n",
       "            paths: {\n",
       "                'plotly': ['https://cdn.plot.ly/plotly-latest.min']\n",
       "            }\n",
       "        });\n",
       "        require(['plotly'], function(Plotly) {\n",
       "            window._Plotly = Plotly;\n",
       "        });\n",
       "        }\n",
       "        </script>\n",
       "        "
      ]
     },
     "metadata": {},
     "output_type": "display_data"
    }
   ],
   "source": [
    "# This Python 3 environment comes with many helpful analytics libraries installed\n",
    "# It is defined by the kaggle/python docker image: https://github.com/kaggle/docker-python\n",
    "# For example, here's several helpful packages to load in \n",
    "\n",
    "import datetime as dt\n",
    "import numpy as np # linear algebra\n",
    "import pandas as pd # data processing, CSV file I/O (e.g. pd.read_csv)\n",
    "\n",
    "import plotly.express as px\n",
    "from plotly import tools\n",
    "import plotly.offline as py\n",
    "py.init_notebook_mode(connected=True)\n",
    "import plotly.graph_objs as go\n",
    "\n",
    "\n",
    "import xgboost as xgb\n",
    "\n",
    "from sklearn.linear_model import LinearRegression as LinReg\n",
    "from sklearn.ensemble import RandomForestRegressor, GradientBoostingRegressor\n",
    "from sklearn.model_selection import train_test_split\n",
    "from sklearn.metrics import r2_score, mean_absolute_error, mean_squared_error\n",
    "\n",
    "# Input data files are available in the \"../input/\" directory.\n",
    "# For example, running this (by clicking run or pressing Shift+Enter) will list all files under the input directory\n",
    "\n",
    "import os\n",
    "for dirname, _, filenames in os.walk('/kaggle/input'):\n",
    "    for filename in filenames:\n",
    "        print(os.path.join(dirname, filename))\n",
    "\n",
    "# Any results you write to the current directory are saved as output."
   ]
  },
  {
   "cell_type": "markdown",
   "metadata": {},
   "source": [
    "Read the data and drop the symbols"
   ]
  },
  {
   "cell_type": "code",
   "execution_count": 2,
   "metadata": {
    "_cell_guid": "79c7e3d0-c299-4dcb-8224-4455121ee9b0",
    "_uuid": "d629ff2d2480ee46fbb7e2d37f6b5fab8052498a",
    "pycharm": {
     "is_executing": true
    }
   },
   "outputs": [],
   "source": [
    "df = pd.read_csv(\"crypto-markets.csv\")"
   ]
  },
  {
   "cell_type": "code",
   "execution_count": 3,
   "metadata": {},
   "outputs": [
    {
     "name": "stdout",
     "output_type": "stream",
     "text": [
      "<class 'pandas.core.frame.DataFrame'>\n",
      "RangeIndex: 942297 entries, 0 to 942296\n",
      "Data columns (total 13 columns):\n",
      " #   Column       Non-Null Count   Dtype  \n",
      "---  ------       --------------   -----  \n",
      " 0   slug         942297 non-null  object \n",
      " 1   symbol       942297 non-null  object \n",
      " 2   name         942297 non-null  object \n",
      " 3   date         942297 non-null  object \n",
      " 4   ranknow      942297 non-null  int64  \n",
      " 5   open         942297 non-null  float64\n",
      " 6   high         942297 non-null  float64\n",
      " 7   low          942297 non-null  float64\n",
      " 8   close        942297 non-null  float64\n",
      " 9   volume       942297 non-null  float64\n",
      " 10  market       942297 non-null  float64\n",
      " 11  close_ratio  942297 non-null  float64\n",
      " 12  spread       942297 non-null  float64\n",
      "dtypes: float64(8), int64(1), object(4)\n",
      "memory usage: 93.5+ MB\n"
     ]
    }
   ],
   "source": [
    "df.info()"
   ]
  },
  {
   "cell_type": "code",
   "execution_count": 4,
   "metadata": {},
   "outputs": [
    {
     "data": {
      "text/html": [
       "<div>\n",
       "<style scoped>\n",
       "    .dataframe tbody tr th:only-of-type {\n",
       "        vertical-align: middle;\n",
       "    }\n",
       "\n",
       "    .dataframe tbody tr th {\n",
       "        vertical-align: top;\n",
       "    }\n",
       "\n",
       "    .dataframe thead th {\n",
       "        text-align: right;\n",
       "    }\n",
       "</style>\n",
       "<table border=\"1\" class=\"dataframe\">\n",
       "  <thead>\n",
       "    <tr style=\"text-align: right;\">\n",
       "      <th></th>\n",
       "      <th>ranknow</th>\n",
       "      <th>open</th>\n",
       "      <th>high</th>\n",
       "      <th>low</th>\n",
       "      <th>close</th>\n",
       "      <th>volume</th>\n",
       "      <th>market</th>\n",
       "      <th>close_ratio</th>\n",
       "      <th>spread</th>\n",
       "    </tr>\n",
       "  </thead>\n",
       "  <tbody>\n",
       "    <tr>\n",
       "      <th>count</th>\n",
       "      <td>942297.000000</td>\n",
       "      <td>9.422970e+05</td>\n",
       "      <td>9.422970e+05</td>\n",
       "      <td>9.422970e+05</td>\n",
       "      <td>9.422970e+05</td>\n",
       "      <td>9.422970e+05</td>\n",
       "      <td>9.422970e+05</td>\n",
       "      <td>942297.000000</td>\n",
       "      <td>9.422970e+05</td>\n",
       "    </tr>\n",
       "    <tr>\n",
       "      <th>mean</th>\n",
       "      <td>1000.170608</td>\n",
       "      <td>3.483522e+02</td>\n",
       "      <td>4.085930e+02</td>\n",
       "      <td>2.962526e+02</td>\n",
       "      <td>3.461018e+02</td>\n",
       "      <td>8.720383e+06</td>\n",
       "      <td>1.725060e+08</td>\n",
       "      <td>0.459499</td>\n",
       "      <td>1.123400e+02</td>\n",
       "    </tr>\n",
       "    <tr>\n",
       "      <th>std</th>\n",
       "      <td>587.575283</td>\n",
       "      <td>1.318436e+04</td>\n",
       "      <td>1.616386e+04</td>\n",
       "      <td>1.092931e+04</td>\n",
       "      <td>1.309822e+04</td>\n",
       "      <td>1.839802e+08</td>\n",
       "      <td>3.575590e+09</td>\n",
       "      <td>0.326160</td>\n",
       "      <td>6.783713e+03</td>\n",
       "    </tr>\n",
       "    <tr>\n",
       "      <th>min</th>\n",
       "      <td>1.000000</td>\n",
       "      <td>2.500000e-09</td>\n",
       "      <td>3.200000e-09</td>\n",
       "      <td>2.500000e-10</td>\n",
       "      <td>2.000000e-10</td>\n",
       "      <td>0.000000e+00</td>\n",
       "      <td>0.000000e+00</td>\n",
       "      <td>-1.000000</td>\n",
       "      <td>0.000000e+00</td>\n",
       "    </tr>\n",
       "    <tr>\n",
       "      <th>25%</th>\n",
       "      <td>465.000000</td>\n",
       "      <td>2.321000e-03</td>\n",
       "      <td>2.628000e-03</td>\n",
       "      <td>2.044000e-03</td>\n",
       "      <td>2.314000e-03</td>\n",
       "      <td>1.750000e+02</td>\n",
       "      <td>2.958100e+04</td>\n",
       "      <td>0.162900</td>\n",
       "      <td>0.000000e+00</td>\n",
       "    </tr>\n",
       "    <tr>\n",
       "      <th>50%</th>\n",
       "      <td>1072.000000</td>\n",
       "      <td>2.398300e-02</td>\n",
       "      <td>2.680200e-02</td>\n",
       "      <td>2.143700e-02</td>\n",
       "      <td>2.389200e-02</td>\n",
       "      <td>4.278000e+03</td>\n",
       "      <td>5.227960e+05</td>\n",
       "      <td>0.432400</td>\n",
       "      <td>0.000000e+00</td>\n",
       "    </tr>\n",
       "    <tr>\n",
       "      <th>75%</th>\n",
       "      <td>1484.000000</td>\n",
       "      <td>2.268600e-01</td>\n",
       "      <td>2.508940e-01</td>\n",
       "      <td>2.043910e-01</td>\n",
       "      <td>2.259340e-01</td>\n",
       "      <td>1.190900e+05</td>\n",
       "      <td>6.874647e+06</td>\n",
       "      <td>0.745800</td>\n",
       "      <td>3.000000e-02</td>\n",
       "    </tr>\n",
       "    <tr>\n",
       "      <th>max</th>\n",
       "      <td>2072.000000</td>\n",
       "      <td>2.298390e+06</td>\n",
       "      <td>2.926100e+06</td>\n",
       "      <td>2.030590e+06</td>\n",
       "      <td>2.300740e+06</td>\n",
       "      <td>2.384090e+10</td>\n",
       "      <td>3.265025e+11</td>\n",
       "      <td>1.000000</td>\n",
       "      <td>1.770563e+06</td>\n",
       "    </tr>\n",
       "  </tbody>\n",
       "</table>\n",
       "</div>"
      ],
      "text/plain": [
       "             ranknow          open          high           low         close  \\\n",
       "count  942297.000000  9.422970e+05  9.422970e+05  9.422970e+05  9.422970e+05   \n",
       "mean     1000.170608  3.483522e+02  4.085930e+02  2.962526e+02  3.461018e+02   \n",
       "std       587.575283  1.318436e+04  1.616386e+04  1.092931e+04  1.309822e+04   \n",
       "min         1.000000  2.500000e-09  3.200000e-09  2.500000e-10  2.000000e-10   \n",
       "25%       465.000000  2.321000e-03  2.628000e-03  2.044000e-03  2.314000e-03   \n",
       "50%      1072.000000  2.398300e-02  2.680200e-02  2.143700e-02  2.389200e-02   \n",
       "75%      1484.000000  2.268600e-01  2.508940e-01  2.043910e-01  2.259340e-01   \n",
       "max      2072.000000  2.298390e+06  2.926100e+06  2.030590e+06  2.300740e+06   \n",
       "\n",
       "             volume        market    close_ratio        spread  \n",
       "count  9.422970e+05  9.422970e+05  942297.000000  9.422970e+05  \n",
       "mean   8.720383e+06  1.725060e+08       0.459499  1.123400e+02  \n",
       "std    1.839802e+08  3.575590e+09       0.326160  6.783713e+03  \n",
       "min    0.000000e+00  0.000000e+00      -1.000000  0.000000e+00  \n",
       "25%    1.750000e+02  2.958100e+04       0.162900  0.000000e+00  \n",
       "50%    4.278000e+03  5.227960e+05       0.432400  0.000000e+00  \n",
       "75%    1.190900e+05  6.874647e+06       0.745800  3.000000e-02  \n",
       "max    2.384090e+10  3.265025e+11       1.000000  1.770563e+06  "
      ]
     },
     "execution_count": 4,
     "metadata": {},
     "output_type": "execute_result"
    }
   ],
   "source": [
    "df.describe()"
   ]
  },
  {
   "cell_type": "code",
   "execution_count": 5,
   "metadata": {},
   "outputs": [],
   "source": [
    "dfnum = df.drop(['slug', 'symbol', 'name', 'date'], axis=1)"
   ]
  },
  {
   "cell_type": "code",
   "execution_count": 6,
   "metadata": {},
   "outputs": [
    {
     "data": {
      "text/plain": [
       "ranknow        1.000171e+03\n",
       "open           3.483522e+02\n",
       "high           4.085930e+02\n",
       "low            2.962526e+02\n",
       "close          3.461018e+02\n",
       "volume         8.720383e+06\n",
       "market         1.725060e+08\n",
       "close_ratio    4.594995e-01\n",
       "spread         1.123400e+02\n",
       "dtype: float64"
      ]
     },
     "execution_count": 6,
     "metadata": {},
     "output_type": "execute_result"
    }
   ],
   "source": [
    "dfnum.mean()  # Mean value"
   ]
  },
  {
   "cell_type": "code",
   "execution_count": 7,
   "metadata": {},
   "outputs": [
    {
     "data": {
      "text/html": [
       "<div>\n",
       "<style scoped>\n",
       "    .dataframe tbody tr th:only-of-type {\n",
       "        vertical-align: middle;\n",
       "    }\n",
       "\n",
       "    .dataframe tbody tr th {\n",
       "        vertical-align: top;\n",
       "    }\n",
       "\n",
       "    .dataframe thead th {\n",
       "        text-align: right;\n",
       "    }\n",
       "</style>\n",
       "<table border=\"1\" class=\"dataframe\">\n",
       "  <thead>\n",
       "    <tr style=\"text-align: right;\">\n",
       "      <th></th>\n",
       "      <th>ranknow</th>\n",
       "      <th>open</th>\n",
       "      <th>high</th>\n",
       "      <th>low</th>\n",
       "      <th>close</th>\n",
       "      <th>volume</th>\n",
       "      <th>market</th>\n",
       "      <th>close_ratio</th>\n",
       "      <th>spread</th>\n",
       "    </tr>\n",
       "  </thead>\n",
       "  <tbody>\n",
       "    <tr>\n",
       "      <th>0</th>\n",
       "      <td>2071.0</td>\n",
       "      <td>2298390.0</td>\n",
       "      <td>2926100.0</td>\n",
       "      <td>2030590.0</td>\n",
       "      <td>2300740.0</td>\n",
       "      <td>2.384090e+10</td>\n",
       "      <td>3.265025e+11</td>\n",
       "      <td>2.0</td>\n",
       "      <td>1770563.0</td>\n",
       "    </tr>\n",
       "  </tbody>\n",
       "</table>\n",
       "</div>"
      ],
      "text/plain": [
       "   ranknow       open       high        low      close        volume  \\\n",
       "0   2071.0  2298390.0  2926100.0  2030590.0  2300740.0  2.384090e+10   \n",
       "\n",
       "         market  close_ratio     spread  \n",
       "0  3.265025e+11          2.0  1770563.0  "
      ]
     },
     "execution_count": 7,
     "metadata": {},
     "output_type": "execute_result"
    }
   ],
   "source": [
    "df_range = pd.DataFrame(dfnum.max() - dfnum.min()).T\n",
    "df_range"
   ]
  },
  {
   "cell_type": "code",
   "execution_count": 8,
   "metadata": {},
   "outputs": [
    {
     "data": {
      "text/plain": [
       "ranknow        5.875753e+02\n",
       "open           1.318436e+04\n",
       "high           1.616386e+04\n",
       "low            1.092931e+04\n",
       "close          1.309822e+04\n",
       "volume         1.839802e+08\n",
       "market         3.575590e+09\n",
       "close_ratio    3.261605e-01\n",
       "spread         6.783713e+03\n",
       "dtype: float64"
      ]
     },
     "execution_count": 8,
     "metadata": {},
     "output_type": "execute_result"
    }
   ],
   "source": [
    "dfnum.std()  # Standard deviation"
   ]
  },
  {
   "cell_type": "code",
   "execution_count": 9,
   "metadata": {},
   "outputs": [
    {
     "data": {
      "text/plain": [
       "ranknow        3.452447e+05\n",
       "open           1.738273e+08\n",
       "high           2.612703e+08\n",
       "low            1.194499e+08\n",
       "close          1.715634e+08\n",
       "volume         3.384870e+16\n",
       "market         1.278484e+19\n",
       "close_ratio    1.063807e-01\n",
       "spread         4.601876e+07\n",
       "dtype: float64"
      ]
     },
     "execution_count": 9,
     "metadata": {},
     "output_type": "execute_result"
    }
   ],
   "source": [
    "dfnum.std() ** 2  # Dispersion is squared degree of standard deviation"
   ]
  },
  {
   "cell_type": "code",
   "execution_count": 10,
   "metadata": {},
   "outputs": [
    {
     "data": {
      "text/plain": [
       "slug           0\n",
       "symbol         0\n",
       "name           0\n",
       "date           0\n",
       "ranknow        0\n",
       "open           0\n",
       "high           0\n",
       "low            0\n",
       "close          0\n",
       "volume         0\n",
       "market         0\n",
       "close_ratio    0\n",
       "spread         0\n",
       "dtype: int64"
      ]
     },
     "execution_count": 10,
     "metadata": {},
     "output_type": "execute_result"
    }
   ],
   "source": [
    "df.isnull().sum()  # Checking NULLs"
   ]
  },
  {
   "cell_type": "code",
   "execution_count": 11,
   "metadata": {},
   "outputs": [],
   "source": [
    "df = df.drop(['symbol', 'slug'], axis=1)  # Drop useless columns"
   ]
  },
  {
   "cell_type": "code",
   "execution_count": 12,
   "metadata": {},
   "outputs": [
    {
     "data": {
      "text/html": [
       "<div>\n",
       "<style scoped>\n",
       "    .dataframe tbody tr th:only-of-type {\n",
       "        vertical-align: middle;\n",
       "    }\n",
       "\n",
       "    .dataframe tbody tr th {\n",
       "        vertical-align: top;\n",
       "    }\n",
       "\n",
       "    .dataframe thead th {\n",
       "        text-align: right;\n",
       "    }\n",
       "</style>\n",
       "<table border=\"1\" class=\"dataframe\">\n",
       "  <thead>\n",
       "    <tr style=\"text-align: right;\">\n",
       "      <th></th>\n",
       "      <th>name</th>\n",
       "      <th>date</th>\n",
       "      <th>ranknow</th>\n",
       "      <th>open</th>\n",
       "      <th>high</th>\n",
       "      <th>low</th>\n",
       "      <th>close</th>\n",
       "      <th>volume</th>\n",
       "      <th>market</th>\n",
       "      <th>close_ratio</th>\n",
       "      <th>spread</th>\n",
       "    </tr>\n",
       "  </thead>\n",
       "  <tbody>\n",
       "    <tr>\n",
       "      <th>0</th>\n",
       "      <td>Bitcoin</td>\n",
       "      <td>2013-04-28</td>\n",
       "      <td>1</td>\n",
       "      <td>135.30</td>\n",
       "      <td>135.98</td>\n",
       "      <td>132.10</td>\n",
       "      <td>134.21</td>\n",
       "      <td>0.0</td>\n",
       "      <td>1.488567e+09</td>\n",
       "      <td>0.5438</td>\n",
       "      <td>3.88</td>\n",
       "    </tr>\n",
       "    <tr>\n",
       "      <th>1</th>\n",
       "      <td>Bitcoin</td>\n",
       "      <td>2013-04-29</td>\n",
       "      <td>1</td>\n",
       "      <td>134.44</td>\n",
       "      <td>147.49</td>\n",
       "      <td>134.00</td>\n",
       "      <td>144.54</td>\n",
       "      <td>0.0</td>\n",
       "      <td>1.603769e+09</td>\n",
       "      <td>0.7813</td>\n",
       "      <td>13.49</td>\n",
       "    </tr>\n",
       "    <tr>\n",
       "      <th>2</th>\n",
       "      <td>Bitcoin</td>\n",
       "      <td>2013-04-30</td>\n",
       "      <td>1</td>\n",
       "      <td>144.00</td>\n",
       "      <td>146.93</td>\n",
       "      <td>134.05</td>\n",
       "      <td>139.00</td>\n",
       "      <td>0.0</td>\n",
       "      <td>1.542813e+09</td>\n",
       "      <td>0.3843</td>\n",
       "      <td>12.88</td>\n",
       "    </tr>\n",
       "    <tr>\n",
       "      <th>3</th>\n",
       "      <td>Bitcoin</td>\n",
       "      <td>2013-05-01</td>\n",
       "      <td>1</td>\n",
       "      <td>139.00</td>\n",
       "      <td>139.89</td>\n",
       "      <td>107.72</td>\n",
       "      <td>116.99</td>\n",
       "      <td>0.0</td>\n",
       "      <td>1.298955e+09</td>\n",
       "      <td>0.2882</td>\n",
       "      <td>32.17</td>\n",
       "    </tr>\n",
       "    <tr>\n",
       "      <th>4</th>\n",
       "      <td>Bitcoin</td>\n",
       "      <td>2013-05-02</td>\n",
       "      <td>1</td>\n",
       "      <td>116.38</td>\n",
       "      <td>125.60</td>\n",
       "      <td>92.28</td>\n",
       "      <td>105.21</td>\n",
       "      <td>0.0</td>\n",
       "      <td>1.168517e+09</td>\n",
       "      <td>0.3881</td>\n",
       "      <td>33.32</td>\n",
       "    </tr>\n",
       "    <tr>\n",
       "      <th>5</th>\n",
       "      <td>Bitcoin</td>\n",
       "      <td>2013-05-03</td>\n",
       "      <td>1</td>\n",
       "      <td>106.25</td>\n",
       "      <td>108.13</td>\n",
       "      <td>79.10</td>\n",
       "      <td>97.75</td>\n",
       "      <td>0.0</td>\n",
       "      <td>1.085995e+09</td>\n",
       "      <td>0.6424</td>\n",
       "      <td>29.03</td>\n",
       "    </tr>\n",
       "    <tr>\n",
       "      <th>6</th>\n",
       "      <td>Bitcoin</td>\n",
       "      <td>2013-05-04</td>\n",
       "      <td>1</td>\n",
       "      <td>98.10</td>\n",
       "      <td>115.00</td>\n",
       "      <td>92.50</td>\n",
       "      <td>112.50</td>\n",
       "      <td>0.0</td>\n",
       "      <td>1.250317e+09</td>\n",
       "      <td>0.8889</td>\n",
       "      <td>22.50</td>\n",
       "    </tr>\n",
       "    <tr>\n",
       "      <th>7</th>\n",
       "      <td>Bitcoin</td>\n",
       "      <td>2013-05-05</td>\n",
       "      <td>1</td>\n",
       "      <td>112.90</td>\n",
       "      <td>118.80</td>\n",
       "      <td>107.14</td>\n",
       "      <td>115.91</td>\n",
       "      <td>0.0</td>\n",
       "      <td>1.288693e+09</td>\n",
       "      <td>0.7521</td>\n",
       "      <td>11.66</td>\n",
       "    </tr>\n",
       "    <tr>\n",
       "      <th>8</th>\n",
       "      <td>Bitcoin</td>\n",
       "      <td>2013-05-06</td>\n",
       "      <td>1</td>\n",
       "      <td>115.98</td>\n",
       "      <td>124.66</td>\n",
       "      <td>106.64</td>\n",
       "      <td>112.30</td>\n",
       "      <td>0.0</td>\n",
       "      <td>1.249023e+09</td>\n",
       "      <td>0.3141</td>\n",
       "      <td>18.02</td>\n",
       "    </tr>\n",
       "    <tr>\n",
       "      <th>9</th>\n",
       "      <td>Bitcoin</td>\n",
       "      <td>2013-05-07</td>\n",
       "      <td>1</td>\n",
       "      <td>112.25</td>\n",
       "      <td>113.44</td>\n",
       "      <td>97.70</td>\n",
       "      <td>111.50</td>\n",
       "      <td>0.0</td>\n",
       "      <td>1.240594e+09</td>\n",
       "      <td>0.8767</td>\n",
       "      <td>15.74</td>\n",
       "    </tr>\n",
       "  </tbody>\n",
       "</table>\n",
       "</div>"
      ],
      "text/plain": [
       "      name        date  ranknow    open    high     low   close  volume  \\\n",
       "0  Bitcoin  2013-04-28        1  135.30  135.98  132.10  134.21     0.0   \n",
       "1  Bitcoin  2013-04-29        1  134.44  147.49  134.00  144.54     0.0   \n",
       "2  Bitcoin  2013-04-30        1  144.00  146.93  134.05  139.00     0.0   \n",
       "3  Bitcoin  2013-05-01        1  139.00  139.89  107.72  116.99     0.0   \n",
       "4  Bitcoin  2013-05-02        1  116.38  125.60   92.28  105.21     0.0   \n",
       "5  Bitcoin  2013-05-03        1  106.25  108.13   79.10   97.75     0.0   \n",
       "6  Bitcoin  2013-05-04        1   98.10  115.00   92.50  112.50     0.0   \n",
       "7  Bitcoin  2013-05-05        1  112.90  118.80  107.14  115.91     0.0   \n",
       "8  Bitcoin  2013-05-06        1  115.98  124.66  106.64  112.30     0.0   \n",
       "9  Bitcoin  2013-05-07        1  112.25  113.44   97.70  111.50     0.0   \n",
       "\n",
       "         market  close_ratio  spread  \n",
       "0  1.488567e+09       0.5438    3.88  \n",
       "1  1.603769e+09       0.7813   13.49  \n",
       "2  1.542813e+09       0.3843   12.88  \n",
       "3  1.298955e+09       0.2882   32.17  \n",
       "4  1.168517e+09       0.3881   33.32  \n",
       "5  1.085995e+09       0.6424   29.03  \n",
       "6  1.250317e+09       0.8889   22.50  \n",
       "7  1.288693e+09       0.7521   11.66  \n",
       "8  1.249023e+09       0.3141   18.02  \n",
       "9  1.240594e+09       0.8767   15.74  "
      ]
     },
     "execution_count": 12,
     "metadata": {},
     "output_type": "execute_result"
    }
   ],
   "source": [
    "df.head(10)"
   ]
  },
  {
   "cell_type": "markdown",
   "metadata": {},
   "source": [
    "Traders still like to analyze the concept of HLC (and OHLC|HL) [proof](https://www.mypivots.com/dictionary/definition/92/hlc-3)"
   ]
  },
  {
   "cell_type": "code",
   "execution_count": null,
   "metadata": {},
   "outputs": [],
   "source": [
    "df['hl_average'] = (df['high'] + df['low']) / 2\n",
    "df['hlc_average'] = (df['high'] + df['low'] + df['close']) / 3\n",
    "df['ohlc_average'] = (df['open'] + df['high'] + df['low'] + df['close']) / 4"
   ]
  },
  {
   "cell_type": "markdown",
   "metadata": {},
   "source": [
    "Checking other currencies"
   ]
  },
  {
   "cell_type": "code",
   "execution_count": null,
   "metadata": {},
   "outputs": [],
   "source": [
    "top10 = df[(df['ranknow'] >= 1) & (df['ranknow'] <= 10)]\n",
    "top10.name.unique()"
   ]
  },
  {
   "cell_type": "markdown",
   "metadata": {},
   "source": [
    "*Volume* - All trades buys and sells that were made during that time (for example 24 hours like coinmarketcap does by default).\n",
    "\n",
    "*Circulating supply* - number of coins mined and existing right now.\n",
    "\n",
    "*Marketcap* = circulating supply multiply by price of coin."
   ]
  },
  {
   "cell_type": "code",
   "execution_count": null,
   "metadata": {},
   "outputs": [],
   "source": [
    "fig = px.pie(top10, values='volume', names='name', title='Cryptocurrencies Top-10 by Transaction Volume')\n",
    "fig.show()"
   ]
  },
  {
   "cell_type": "code",
   "execution_count": null,
   "metadata": {},
   "outputs": [],
   "source": [
    "fig = px.pie(top10, values='market', names='name', title='Cryptocurrencies Top-10 by Market capitalization')\n",
    "fig.show()"
   ]
  },
  {
   "cell_type": "code",
   "execution_count": null,
   "metadata": {},
   "outputs": [],
   "source": [
    "fig = tools.make_subplots(subplot_titles=('Time'))\n",
    "for name in top10.name.unique():\n",
    "    currency = top10[top10['name'] == name]\n",
    "    trace = go.Scatter(x=currency['date'], y=currency['ohlc_average'], name=name)\n",
    "    fig.append_trace(trace, 1, 1)\n",
    "    \n",
    "fig['layout'].update(title='Top-10 Cryptocurrencies Comparison')\n",
    "fig['layout']['yaxis1'].update(title='USD')\n",
    "fig.show()"
   ]
  },
  {
   "cell_type": "markdown",
   "metadata": {},
   "source": [
    "Adding minor cryptocurrencies that not affect too much on the market"
   ]
  },
  {
   "cell_type": "code",
   "execution_count": null,
   "metadata": {},
   "outputs": [],
   "source": [
    "top10minorCurrencies = df[(df['ranknow'] >= 11) & (df['ranknow'] <= 21)]\n",
    "\n",
    "top10minorCurrencies.name.unique()"
   ]
  },
  {
   "cell_type": "code",
   "execution_count": null,
   "metadata": {},
   "outputs": [],
   "source": [
    "fig = px.pie(top10minorCurrencies, values='volume', names='name', title='Minor Cryptocurrencies by Transaction Volume')\n",
    "fig.show()"
   ]
  },
  {
   "cell_type": "code",
   "execution_count": null,
   "metadata": {},
   "outputs": [],
   "source": [
    "fig = px.pie(top10minorCurrencies, values='market', names='name', title='Minor Cryptocurrencies by Market capitalization')\n",
    "fig.show()"
   ]
  },
  {
   "cell_type": "code",
   "execution_count": null,
   "metadata": {},
   "outputs": [],
   "source": [
    "top10loserCoins = df[(df['ranknow'] >= max(df['ranknow']) - 10) & (df['ranknow'] <= max(df['ranknow']))]\n",
    "\n",
    "top10loserCoins.name.unique()"
   ]
  },
  {
   "cell_type": "code",
   "execution_count": null,
   "metadata": {},
   "outputs": [],
   "source": [
    "fig = px.pie(top10loserCoins, values='volume', names='name', title='Loser Cryptocurrencies by Transaction Volume')\n",
    "fig.show()"
   ]
  },
  {
   "cell_type": "code",
   "execution_count": null,
   "metadata": {},
   "outputs": [],
   "source": [
    "fig = px.pie(top10loserCoins, values='market', names='name', title='Loser Cryptocurrencies by Market capitalization')\n",
    "fig.show()"
   ]
  }
 ],
 "metadata": {
  "kernelspec": {
   "display_name": "Python 3",
   "language": "python",
   "name": "python3"
  },
  "language_info": {
   "codemirror_mode": {
    "name": "ipython",
    "version": 3
   },
   "file_extension": ".py",
   "mimetype": "text/x-python",
   "name": "python",
   "nbconvert_exporter": "python",
   "pygments_lexer": "ipython3",
   "version": "3.8.1"
  }
 },
 "nbformat": 4,
 "nbformat_minor": 4
}
